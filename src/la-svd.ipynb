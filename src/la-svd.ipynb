{
 "cells": [
  {
   "cell_type": "code",
   "execution_count": 12,
   "metadata": {
    "collapsed": true
   },
   "outputs": [],
   "source": [
    "import numpy as np\n",
    "import matplotlib.pyplot as plt\n",
    "\n",
    "from numpy.linalg import svd\n",
    "from skimage import data, img_as_float\n",
    "from skimage.color import rgb2gray\n",
    "\n",
    "\n",
    "def perform_svd(matrix, k):\n",
    "    \"\"\"\n",
    "    Performs SVD on two dimantional matrix\n",
    "    :param m: matrix\n",
    "    :param k: number of singular vectors to be used during the matrix reconstruction\n",
    "    :return: a matrix reconstructed using k singular vectors\n",
    "    \"\"\"\n",
    "    U, s, V = svd(matrix)\n",
    "    return np.matrix(U[:, :k]) * np.diag(s[:k]) * np.matrix(V[:k, :])\n",
    "\n",
    "\n",
    "def print_result_decorator(original_function):\n",
    "    def wrapper(*args, **kwargs):\n",
    "        res = original_function(*args, **kwargs)\n",
    "        fig, ax = plt.subplots(nrows=1, ncols=2, figsize=(8, 5))\n",
    "        plt.gray()\n",
    "    \n",
    "        ax[0].imshow(args[0])\n",
    "        ax[0].set_title('Original Image')\n",
    "\n",
    "        ax[1].imshow(res)\n",
    "        ax[1].set_title('Result')\n",
    "        plt.show()\n",
    "    return wrapper\n",
    "\n",
    "\n",
    "@print_result_decorator\n",
    "def compress_image_with_svd(img_to_compress, k):\n",
    "    \"\"\"\n",
    "    :param img_to_compress: \n",
    "    :param k: \n",
    "    :return: \n",
    "    \"\"\"\n",
    "    img_matrix = img_as_float(rgb2gray(img_to_compress))\n",
    "    compressed = perform_svd(img_matrix, k)\n",
    "    return compressed\n",
    "\n",
    "\n",
    "svd_compressed = compress_image_with_svd(data.astronaut(), 50)\n",
    "\n",
    "    \n",
    "    "
   ]
  },
  {
   "cell_type": "code",
   "execution_count": 9,
   "metadata": {},
   "outputs": [],
   "source": [
    "import pywt\n",
    "\n",
    "\n"
   ]
  },
  {
   "cell_type": "code",
   "execution_count": null,
   "metadata": {},
   "outputs": [],
   "source": []
  }
 ],
 "metadata": {
  "kernelspec": {
   "display_name": "Python 2",
   "language": "python",
   "name": "python2"
  },
  "language_info": {
   "codemirror_mode": {
    "name": "ipython",
    "version": 2
   },
   "file_extension": ".py",
   "mimetype": "text/x-python",
   "name": "python",
   "nbconvert_exporter": "python",
   "pygments_lexer": "ipython2",
   "version": "2.7.6"
  }
 },
 "nbformat": 4,
 "nbformat_minor": 0
}
